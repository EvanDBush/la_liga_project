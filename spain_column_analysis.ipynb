{
 "cells": [
  {
   "attachments": {},
   "cell_type": "markdown",
   "metadata": {},
   "source": [
    "* Column Analysis:\n",
    "    Date, Season, home, visitor, HT, FT, hgoal, vgoal, tier, round, group, notes\n",
    "\n"
   ]
  },
  {
   "cell_type": "code",
   "execution_count": 3,
   "metadata": {},
   "outputs": [],
   "source": [
    "import pandas as pd\n",
    "spain_df = pd.read_csv(\"data/spain.csv\")\n",
    "\n"
   ]
  },
  {
   "attachments": {},
   "cell_type": "markdown",
   "metadata": {},
   "source": [
    "* Summary of the Dataframe:"
   ]
  },
  {
   "cell_type": "code",
   "execution_count": 10,
   "metadata": {},
   "outputs": [
    {
     "data": {
      "text/html": [
       "<div>\n",
       "<style scoped>\n",
       "    .dataframe tbody tr th:only-of-type {\n",
       "        vertical-align: middle;\n",
       "    }\n",
       "\n",
       "    .dataframe tbody tr th {\n",
       "        vertical-align: top;\n",
       "    }\n",
       "\n",
       "    .dataframe thead th {\n",
       "        text-align: right;\n",
       "    }\n",
       "</style>\n",
       "<table border=\"1\" class=\"dataframe\">\n",
       "  <thead>\n",
       "    <tr style=\"text-align: right;\">\n",
       "      <th></th>\n",
       "      <th>Date</th>\n",
       "      <th>Season</th>\n",
       "      <th>home</th>\n",
       "      <th>visitor</th>\n",
       "      <th>HT</th>\n",
       "      <th>FT</th>\n",
       "      <th>hgoal</th>\n",
       "      <th>vgoal</th>\n",
       "      <th>tier</th>\n",
       "      <th>round</th>\n",
       "      <th>group</th>\n",
       "      <th>notes</th>\n",
       "    </tr>\n",
       "  </thead>\n",
       "  <tbody>\n",
       "    <tr>\n",
       "      <th>0</th>\n",
       "      <td>1929-02-10</td>\n",
       "      <td>1928</td>\n",
       "      <td>Arenas de Getxo</td>\n",
       "      <td>Atletico Madrid</td>\n",
       "      <td>0-2</td>\n",
       "      <td>2-3</td>\n",
       "      <td>2</td>\n",
       "      <td>3</td>\n",
       "      <td>1</td>\n",
       "      <td>league</td>\n",
       "      <td>NaN</td>\n",
       "      <td>NaN</td>\n",
       "    </tr>\n",
       "    <tr>\n",
       "      <th>1</th>\n",
       "      <td>1929-02-10</td>\n",
       "      <td>1928</td>\n",
       "      <td>Espanyol Barcelona</td>\n",
       "      <td>Real Union</td>\n",
       "      <td>1-0</td>\n",
       "      <td>3-2</td>\n",
       "      <td>3</td>\n",
       "      <td>2</td>\n",
       "      <td>1</td>\n",
       "      <td>league</td>\n",
       "      <td>NaN</td>\n",
       "      <td>NaN</td>\n",
       "    </tr>\n",
       "    <tr>\n",
       "      <th>2</th>\n",
       "      <td>1929-02-10</td>\n",
       "      <td>1928</td>\n",
       "      <td>Real Madrid</td>\n",
       "      <td>CE Europa</td>\n",
       "      <td>0-0</td>\n",
       "      <td>5-0</td>\n",
       "      <td>5</td>\n",
       "      <td>0</td>\n",
       "      <td>1</td>\n",
       "      <td>league</td>\n",
       "      <td>NaN</td>\n",
       "      <td>NaN</td>\n",
       "    </tr>\n",
       "    <tr>\n",
       "      <th>3</th>\n",
       "      <td>1929-02-10</td>\n",
       "      <td>1928</td>\n",
       "      <td>Real Sociedad</td>\n",
       "      <td>Athletic Bilbao</td>\n",
       "      <td>1-1</td>\n",
       "      <td>1-1</td>\n",
       "      <td>1</td>\n",
       "      <td>1</td>\n",
       "      <td>1</td>\n",
       "      <td>league</td>\n",
       "      <td>NaN</td>\n",
       "      <td>NaN</td>\n",
       "    </tr>\n",
       "    <tr>\n",
       "      <th>4</th>\n",
       "      <td>1929-02-12</td>\n",
       "      <td>1928</td>\n",
       "      <td>Racing Santander</td>\n",
       "      <td>FC Barcelona</td>\n",
       "      <td>0-0</td>\n",
       "      <td>0-2</td>\n",
       "      <td>0</td>\n",
       "      <td>2</td>\n",
       "      <td>1</td>\n",
       "      <td>league</td>\n",
       "      <td>NaN</td>\n",
       "      <td>NaN</td>\n",
       "    </tr>\n",
       "    <tr>\n",
       "      <th>...</th>\n",
       "      <td>...</td>\n",
       "      <td>...</td>\n",
       "      <td>...</td>\n",
       "      <td>...</td>\n",
       "      <td>...</td>\n",
       "      <td>...</td>\n",
       "      <td>...</td>\n",
       "      <td>...</td>\n",
       "      <td>...</td>\n",
       "      <td>...</td>\n",
       "      <td>...</td>\n",
       "      <td>...</td>\n",
       "    </tr>\n",
       "    <tr>\n",
       "      <th>26190</th>\n",
       "      <td>2022-05-22</td>\n",
       "      <td>2021</td>\n",
       "      <td>Granada CF</td>\n",
       "      <td>Espanyol Barcelona</td>\n",
       "      <td>NaN</td>\n",
       "      <td>0-0</td>\n",
       "      <td>0</td>\n",
       "      <td>0</td>\n",
       "      <td>1</td>\n",
       "      <td>league</td>\n",
       "      <td>NaN</td>\n",
       "      <td>NaN</td>\n",
       "    </tr>\n",
       "    <tr>\n",
       "      <th>26191</th>\n",
       "      <td>2022-05-22</td>\n",
       "      <td>2021</td>\n",
       "      <td>CA Osasuna</td>\n",
       "      <td>RCD Mallorca</td>\n",
       "      <td>NaN</td>\n",
       "      <td>0-2</td>\n",
       "      <td>0</td>\n",
       "      <td>2</td>\n",
       "      <td>1</td>\n",
       "      <td>league</td>\n",
       "      <td>NaN</td>\n",
       "      <td>NaN</td>\n",
       "    </tr>\n",
       "    <tr>\n",
       "      <th>26192</th>\n",
       "      <td>2022-05-22</td>\n",
       "      <td>2021</td>\n",
       "      <td>FC Barcelona</td>\n",
       "      <td>Villarreal CF</td>\n",
       "      <td>NaN</td>\n",
       "      <td>0-2</td>\n",
       "      <td>0</td>\n",
       "      <td>2</td>\n",
       "      <td>1</td>\n",
       "      <td>league</td>\n",
       "      <td>NaN</td>\n",
       "      <td>NaN</td>\n",
       "    </tr>\n",
       "    <tr>\n",
       "      <th>26193</th>\n",
       "      <td>2022-05-22</td>\n",
       "      <td>2021</td>\n",
       "      <td>Sevilla FC</td>\n",
       "      <td>Athletic Bilbao</td>\n",
       "      <td>NaN</td>\n",
       "      <td>1-0</td>\n",
       "      <td>1</td>\n",
       "      <td>0</td>\n",
       "      <td>1</td>\n",
       "      <td>league</td>\n",
       "      <td>NaN</td>\n",
       "      <td>NaN</td>\n",
       "    </tr>\n",
       "    <tr>\n",
       "      <th>26194</th>\n",
       "      <td>2022-05-22</td>\n",
       "      <td>2021</td>\n",
       "      <td>Real Sociedad</td>\n",
       "      <td>Atletico Madrid</td>\n",
       "      <td>NaN</td>\n",
       "      <td>1-2</td>\n",
       "      <td>1</td>\n",
       "      <td>2</td>\n",
       "      <td>1</td>\n",
       "      <td>league</td>\n",
       "      <td>NaN</td>\n",
       "      <td>NaN</td>\n",
       "    </tr>\n",
       "  </tbody>\n",
       "</table>\n",
       "<p>26195 rows × 12 columns</p>\n",
       "</div>"
      ],
      "text/plain": [
       "             Date  Season                home             visitor   HT   FT  \\\n",
       "0      1929-02-10    1928     Arenas de Getxo     Atletico Madrid  0-2  2-3   \n",
       "1      1929-02-10    1928  Espanyol Barcelona          Real Union  1-0  3-2   \n",
       "2      1929-02-10    1928         Real Madrid           CE Europa  0-0  5-0   \n",
       "3      1929-02-10    1928       Real Sociedad     Athletic Bilbao  1-1  1-1   \n",
       "4      1929-02-12    1928    Racing Santander        FC Barcelona  0-0  0-2   \n",
       "...           ...     ...                 ...                 ...  ...  ...   \n",
       "26190  2022-05-22    2021          Granada CF  Espanyol Barcelona  NaN  0-0   \n",
       "26191  2022-05-22    2021          CA Osasuna        RCD Mallorca  NaN  0-2   \n",
       "26192  2022-05-22    2021        FC Barcelona       Villarreal CF  NaN  0-2   \n",
       "26193  2022-05-22    2021          Sevilla FC     Athletic Bilbao  NaN  1-0   \n",
       "26194  2022-05-22    2021       Real Sociedad     Atletico Madrid  NaN  1-2   \n",
       "\n",
       "       hgoal  vgoal  tier   round group notes  \n",
       "0          2      3     1  league   NaN   NaN  \n",
       "1          3      2     1  league   NaN   NaN  \n",
       "2          5      0     1  league   NaN   NaN  \n",
       "3          1      1     1  league   NaN   NaN  \n",
       "4          0      2     1  league   NaN   NaN  \n",
       "...      ...    ...   ...     ...   ...   ...  \n",
       "26190      0      0     1  league   NaN   NaN  \n",
       "26191      0      2     1  league   NaN   NaN  \n",
       "26192      0      2     1  league   NaN   NaN  \n",
       "26193      1      0     1  league   NaN   NaN  \n",
       "26194      1      2     1  league   NaN   NaN  \n",
       "\n",
       "[26195 rows x 12 columns]"
      ]
     },
     "execution_count": 10,
     "metadata": {},
     "output_type": "execute_result"
    }
   ],
   "source": [
    "spain_df"
   ]
  },
  {
   "attachments": {},
   "cell_type": "markdown",
   "metadata": {},
   "source": [
    "* Column 1: 'Date'"
   ]
  },
  {
   "cell_type": "code",
   "execution_count": 4,
   "metadata": {},
   "outputs": [
    {
     "data": {
      "text/plain": [
       "1989-12-10    10\n",
       "1996-05-19    10\n",
       "1996-05-12    10\n",
       "2004-05-23    10\n",
       "1996-01-21    10\n",
       "              ..\n",
       "2013-05-20     1\n",
       "1988-01-30     1\n",
       "2013-05-13     1\n",
       "1988-02-13     1\n",
       "1987-02-07     1\n",
       "Name: Date, Length: 5560, dtype: int64"
      ]
     },
     "execution_count": 4,
     "metadata": {},
     "output_type": "execute_result"
    }
   ],
   "source": [
    "spain_df['Date'].value_counts()"
   ]
  },
  {
   "attachments": {},
   "cell_type": "markdown",
   "metadata": {},
   "source": [
    "It seems that the most matches on a single day is 10. There are instances of one game played on one day.\n",
    "\n",
    "date is in the format \"yyyy-mm-dd\""
   ]
  },
  {
   "cell_type": "code",
   "execution_count": 8,
   "metadata": {},
   "outputs": [
    {
     "name": "stdout",
     "output_type": "stream",
     "text": [
      "count          26195\n",
      "unique          5560\n",
      "top       1989-12-10\n",
      "freq              10\n",
      "Name: Date, dtype: object\n",
      "1929-02-10\n",
      "2022-05-22\n"
     ]
    }
   ],
   "source": [
    "print(spain_df['Date'].describe())\n",
    "print(spain_df['Date'].min())\n",
    "print(spain_df['Date'].max())\n",
    "\n"
   ]
  },
  {
   "attachments": {},
   "cell_type": "markdown",
   "metadata": {},
   "source": [
    "There are 5,560 unique matchdays for 26,195 games. A lot of games played on the same day."
   ]
  },
  {
   "attachments": {},
   "cell_type": "markdown",
   "metadata": {},
   "source": [
    "* Column 2: 'Season'"
   ]
  },
  {
   "cell_type": "code",
   "execution_count": 12,
   "metadata": {},
   "outputs": [
    {
     "name": "stdout",
     "output_type": "stream",
     "text": [
      "1928\n",
      "2021\n"
     ]
    }
   ],
   "source": [
    "spain_df['Season'].describe()\n",
    "print(spain_df['Season'].min())\n",
    "print(spain_df['Season'].max())"
   ]
  },
  {
   "attachments": {},
   "cell_type": "markdown",
   "metadata": {},
   "source": [
    "Seasons range from 1928 to 2021. Since we have dates from 2022 above, we can infer a season may overlap parts of two years."
   ]
  },
  {
   "cell_type": "code",
   "execution_count": 16,
   "metadata": {},
   "outputs": [
    {
     "data": {
      "text/plain": [
       "1996    462\n",
       "1995    462\n",
       "1986    396\n",
       "2021    380\n",
       "1994    380\n",
       "       ... \n",
       "1930     90\n",
       "1929     90\n",
       "1932     90\n",
       "1933     90\n",
       "1928     90\n",
       "Name: Season, Length: 91, dtype: int64"
      ]
     },
     "execution_count": 16,
     "metadata": {},
     "output_type": "execute_result"
    }
   ],
   "source": [
    "spain_df['Season'].value_counts()\n"
   ]
  },
  {
   "attachments": {},
   "cell_type": "markdown",
   "metadata": {},
   "source": [
    "This information shows a length of 91- how many seasons we have a record for. It also seems like early seasons had only 90 games. The amount of games per season now is 380.\n",
    "\n",
    "'Season' Questions: \n",
    "    - How many times did the length of the season change?\n",
    "    - How many games did each team play per season?\n",
    "    - Do the seasons only get longer?"
   ]
  },
  {
   "attachments": {},
   "cell_type": "markdown",
   "metadata": {},
   "source": [
    "* Column 3: 'home'"
   ]
  },
  {
   "attachments": {},
   "cell_type": "markdown",
   "metadata": {},
   "source": [
    "First we will make a list of unique home teams:"
   ]
  },
  {
   "cell_type": "code",
   "execution_count": 24,
   "metadata": {},
   "outputs": [
    {
     "name": "stdout",
     "output_type": "stream",
     "text": [
      "['Arenas de Getxo' 'Espanyol Barcelona' 'Real Madrid' 'Real Sociedad'\n",
      " 'Racing Santander' 'FC Barcelona' 'Athletic Bilbao' 'Atletico Madrid'\n",
      " 'Real Union' 'CE Europa' 'CD Alaves' 'Valencia CF' 'Real Betis'\n",
      " 'Real Oviedo' 'Sevilla FC' 'Hercules CF' 'CA Osasuna' 'Real Zaragoza'\n",
      " 'Celta Vigo' 'Real Murcia' 'Granada CF' 'Deportivo La Coruna'\n",
      " 'CD Castellon' 'CE Sabadell' 'Sporting Gijon' 'CD Alcoyano' 'Gimnastic'\n",
      " 'Real Valladolid' 'CD Malaga' 'UE Lleida' 'Atletico Tetuan'\n",
      " 'UD Las Palmas' 'Real Jaen' 'CD Leonesa' 'CD Condal' 'Elche CF'\n",
      " 'RCD Mallorca' 'CD Tenerife' 'Cordoba CF' 'Pontevedra CF' 'Levante UD'\n",
      " 'Burgos CF' 'UD Salamanca' 'Cadiz CF' 'Rayo Vallecano'\n",
      " 'Recreativo Huelva' 'AD Almeria' 'CD Logrones' 'Real Burgos' 'Albacete'\n",
      " 'SD Compostela' 'CP Merida' 'CF Extremadura' 'Villarreal CF'\n",
      " 'CD Numancia' 'Malaga CF' 'Getafe CF' 'UD Almeria' 'Xerez CD' 'SD Eibar'\n",
      " 'CD Leganes' 'Girona' 'SD Huesca']\n",
      "63\n"
     ]
    }
   ],
   "source": [
    "team_list = spain_df['home'].unique()\n",
    "print(team_list)\n",
    "print(team_list.size)\n"
   ]
  },
  {
   "cell_type": "code",
   "execution_count": 6,
   "metadata": {},
   "outputs": [
    {
     "data": {
      "text/plain": [
       "Real Madrid        1476\n",
       "FC Barcelona       1476\n",
       "Athletic Bilbao    1476\n",
       "Valencia CF        1427\n",
       "Atletico Madrid    1402\n",
       "                   ... \n",
       "CE Europa            27\n",
       "Xerez CD             19\n",
       "CD Condal            15\n",
       "CD Leonesa           15\n",
       "Atletico Tetuan      15\n",
       "Name: home, Length: 63, dtype: int64"
      ]
     },
     "execution_count": 6,
     "metadata": {},
     "output_type": "execute_result"
    }
   ],
   "source": [
    "spain_df['home'].value_counts()"
   ]
  },
  {
   "attachments": {},
   "cell_type": "markdown",
   "metadata": {},
   "source": [
    "63 unique clubs as indicated by the length. May have to check for duplicates or alternate spellings.\n",
    "\n",
    "In our results above Real Madrid, Barcelona, and Athletic Club Bilbao have played the most games since 1929.\n",
    "It is likely these teams have never been relegated or existed longer than all others. There are a few clubs with only 15 home games in the records. This may mean that they only spent one season at the professional level."
   ]
  },
  {
   "attachments": {},
   "cell_type": "markdown",
   "metadata": {},
   "source": [
    "* Column 4: 'visitor'"
   ]
  },
  {
   "cell_type": "code",
   "execution_count": 25,
   "metadata": {},
   "outputs": [
    {
     "data": {
      "text/plain": [
       "Athletic Bilbao    1476\n",
       "FC Barcelona       1476\n",
       "Real Madrid        1476\n",
       "Valencia CF        1427\n",
       "Atletico Madrid    1402\n",
       "                   ... \n",
       "CE Europa            27\n",
       "Xerez CD             19\n",
       "CD Leonesa           15\n",
       "Atletico Tetuan      15\n",
       "CD Condal            15\n",
       "Name: visitor, Length: 63, dtype: int64"
      ]
     },
     "execution_count": 25,
     "metadata": {},
     "output_type": "execute_result"
    }
   ],
   "source": [
    "spain_df['visitor'].value_counts()\n"
   ]
  },
  {
   "attachments": {},
   "cell_type": "markdown",
   "metadata": {},
   "source": [
    "This column should return the same results as the home column. We can check below:"
   ]
  },
  {
   "cell_type": "code",
   "execution_count": 26,
   "metadata": {},
   "outputs": [
    {
     "name": "stdout",
     "output_type": "stream",
     "text": [
      "These lists are the same\n"
     ]
    }
   ],
   "source": [
    "visitor_team_list = spain_df['visitor'].unique()\n",
    "visitor_team_list.sort()\n",
    "visitor_team_list\n",
    "\n",
    "team_list.sort()\n",
    "team_list\n",
    "\n",
    "if team_list.all() == visitor_team_list.all():\n",
    "    print('These lists are the same')\n",
    "else: \n",
    "    print('These lists do not match')\n",
    "\n"
   ]
  },
  {
   "attachments": {},
   "cell_type": "markdown",
   "metadata": {},
   "source": [
    "* Column 5: 'HT'"
   ]
  },
  {
   "cell_type": "code",
   "execution_count": 28,
   "metadata": {},
   "outputs": [
    {
     "name": "stdout",
     "output_type": "stream",
     "text": [
      "count     23155\n",
      "unique       36\n",
      "top         0-0\n",
      "freq       6614\n",
      "Name: HT, dtype: object\n",
      "0-0    6614\n",
      "1-0    5239\n",
      "0-1    2676\n",
      "1-1    2430\n",
      "2-0    2135\n",
      "2-1    1004\n",
      "0-2     620\n",
      "3-0     602\n",
      "1-2     569\n",
      "3-1     300\n",
      "2-2     239\n",
      "4-0     176\n",
      "0-3     125\n",
      "1-3      86\n",
      "4-1      77\n",
      "3-2      55\n",
      "5-0      45\n",
      "2-3      40\n",
      "5-1      31\n",
      "4-2      23\n",
      "3-3      15\n",
      "6-0       8\n",
      "0-4       7\n",
      "6-1       7\n",
      "1-4       6\n",
      "3-4       5\n",
      "5-2       4\n",
      "2-4       3\n",
      "0-5       3\n",
      "0-6       2\n",
      "7-0       2\n",
      "4-3       2\n",
      "1-5       2\n",
      "6-2       1\n",
      "7-1       1\n",
      "5-3       1\n",
      "Name: HT, dtype: int64\n"
     ]
    }
   ],
   "source": [
    "print(spain_df['HT'].describe())\n",
    "print(spain_df['HT'].value_counts())\n",
    "\n"
   ]
  },
  {
   "attachments": {},
   "cell_type": "markdown",
   "metadata": {},
   "source": [
    "Looking at this column we can see we have halftime scores for 23,155 games out of a total 26,195 games. We are missing scores for \n",
    "3,040 games.\n",
    "\n",
    "The most common halftime score was 0-0 with 6,614 games. That is almost 30% of games (28.56%).\n",
    "Still, it is more likely one team will have scored at halftime. Adding up the totals for 1-0 and 0-1 scorelines we see\n",
    "that 7,915 games go into halftime with one goal scored, about 34.18% of the time. From what we can see from the tail of this data,\n",
    "the highest lead into halftime might be 7-1 with the most goals in the first half being 8. This would need more examination to confirm.\n",
    "\n",
    "'HT' Questions:\n",
    "    - What games/seasons are missing halftime scores? consider noting in readme or removing column.\n",
    "    - Are they grouped together? Note where missing ht scores are.\n",
    "    - What game has the highest number of goals in the first half?\n",
    "    - What two teams have been tied at half the most?\n",
    "    - Who had the largest lead at halftime but lost the game?\n",
    "    - How many games tied at halftime ended in a tie?\n",
    "    - How many games went scoreless in the 2nd half?  "
   ]
  },
  {
   "attachments": {},
   "cell_type": "markdown",
   "metadata": {},
   "source": [
    "* Column 6: 'FT'"
   ]
  },
  {
   "cell_type": "code",
   "execution_count": 29,
   "metadata": {},
   "outputs": [
    {
     "name": "stdout",
     "output_type": "stream",
     "text": [
      "count     26195\n",
      "unique       79\n",
      "top         1-0\n",
      "freq       3064\n",
      "Name: FT, dtype: object\n",
      "1-0     3064\n",
      "1-1     2847\n",
      "2-1     2445\n",
      "2-0     2219\n",
      "0-0     2000\n",
      "        ... \n",
      "11-1       1\n",
      "7-5        1\n",
      "12-1       1\n",
      "4-7        1\n",
      "10-2       1\n",
      "Name: FT, Length: 79, dtype: int64\n"
     ]
    }
   ],
   "source": [
    "print(spain_df['FT'].describe())\n",
    "print(spain_df['FT'].value_counts())"
   ]
  },
  {
   "attachments": {},
   "cell_type": "markdown",
   "metadata": {},
   "source": [
    "Most games ended 1-0. This means the home team won. 2000 games ended scoreless. Data suggests a home team advantage.\n",
    "\n",
    "'FT' Questions:\n",
    "    - How many games ended 0-1?\n",
    "    - How many games ended in a tie?\n",
    "    - What games had the most goals scored? (can see 11-1, 12-1, and 10-2)\n",
    "    - What are the goal totals for a given team?\n",
    "    - What team has scored the most goals? Goals per win?\n",
    "    - What are some ways to quantify home team advantage?\n",
    "    - Is it different per team? and do you compare them against their away record or other teams?\n"
   ]
  },
  {
   "attachments": {},
   "cell_type": "markdown",
   "metadata": {},
   "source": [
    "* Column 7: 'hgoal'"
   ]
  },
  {
   "cell_type": "code",
   "execution_count": 30,
   "metadata": {},
   "outputs": [
    {
     "name": "stdout",
     "output_type": "stream",
     "text": [
      "count    26195.000000\n",
      "mean         1.802863\n",
      "std          1.488419\n",
      "min          0.000000\n",
      "25%          1.000000\n",
      "50%          2.000000\n",
      "75%          3.000000\n",
      "max         12.000000\n",
      "Name: hgoal, dtype: float64\n",
      "1     7956\n",
      "2     6419\n",
      "0     4884\n",
      "3     3643\n",
      "4     1907\n",
      "5      820\n",
      "6      332\n",
      "7      141\n",
      "8       58\n",
      "9       22\n",
      "10      10\n",
      "11       2\n",
      "12       1\n",
      "Name: hgoal, dtype: int64\n"
     ]
    }
   ],
   "source": [
    "print(spain_df['hgoal'].describe())\n",
    "print(spain_df['hgoal'].value_counts())"
   ]
  },
  {
   "attachments": {},
   "cell_type": "markdown",
   "metadata": {},
   "source": [
    "On average the home team scored 1.8 goals per game. \n",
    "The most any team has scored at home in the leagues is 12 goals"
   ]
  },
  {
   "attachments": {},
   "cell_type": "markdown",
   "metadata": {},
   "source": [
    "Column 8: 'vgoal'"
   ]
  },
  {
   "cell_type": "code",
   "execution_count": 31,
   "metadata": {},
   "outputs": [
    {
     "name": "stdout",
     "output_type": "stream",
     "text": [
      "count    26195.000000\n",
      "mean         1.037793\n",
      "std          1.084513\n",
      "min          0.000000\n",
      "25%          0.000000\n",
      "50%          1.000000\n",
      "75%          2.000000\n",
      "max          8.000000\n",
      "Name: vgoal, dtype: float64\n",
      "0    9738\n",
      "1    9346\n",
      "2    4627\n",
      "3    1669\n",
      "4     586\n",
      "5     165\n",
      "6      47\n",
      "7       9\n",
      "8       8\n",
      "Name: vgoal, dtype: int64\n"
     ]
    }
   ],
   "source": [
    "print(spain_df['vgoal'].describe())\n",
    "print(spain_df['vgoal'].value_counts())"
   ]
  },
  {
   "attachments": {},
   "cell_type": "markdown",
   "metadata": {},
   "source": [
    "Visitors score an average of 1.04 goals per game. There is a clear home team advantage.\n",
    "The most an away team has scored is 8 goals."
   ]
  },
  {
   "attachments": {},
   "cell_type": "markdown",
   "metadata": {},
   "source": [
    "Column 9: 'tier'"
   ]
  },
  {
   "cell_type": "code",
   "execution_count": 3,
   "metadata": {},
   "outputs": [
    {
     "data": {
      "text/plain": [
       "count    26195.0\n",
       "mean         1.0\n",
       "std          0.0\n",
       "min          1.0\n",
       "25%          1.0\n",
       "50%          1.0\n",
       "75%          1.0\n",
       "max          1.0\n",
       "Name: tier, dtype: float64"
      ]
     },
     "execution_count": 3,
     "metadata": {},
     "output_type": "execute_result"
    }
   ],
   "source": [
    "spain_df['tier'].describe()"
   ]
  },
  {
   "attachments": {},
   "cell_type": "markdown",
   "metadata": {},
   "source": [
    "This column indicates that all games recorded are 1st tier games. This is the top professional division in Spain. We can probably drop this column."
   ]
  },
  {
   "attachments": {},
   "cell_type": "markdown",
   "metadata": {},
   "source": [
    "* Column 10: 'round'"
   ]
  },
  {
   "cell_type": "code",
   "execution_count": 32,
   "metadata": {},
   "outputs": [
    {
     "name": "stdout",
     "output_type": "stream",
     "text": [
      "count      26195\n",
      "unique         2\n",
      "top       league\n",
      "freq       26105\n",
      "Name: round, dtype: object\n",
      "league    26105\n",
      "phase2       90\n",
      "Name: round, dtype: int64\n"
     ]
    }
   ],
   "source": [
    "print(spain_df['round'].describe())\n",
    "print(spain_df['round'].value_counts())"
   ]
  },
  {
   "attachments": {},
   "cell_type": "markdown",
   "metadata": {},
   "source": [
    "'round' Questions:\n",
    "    - What does phase2 mean? What years have this data?\n",
    "    - Is it grouped somewhere or on the end of a few seasons?\n",
    "    "
   ]
  },
  {
   "attachments": {},
   "cell_type": "markdown",
   "metadata": {},
   "source": [
    "* Column 11: 'group'"
   ]
  },
  {
   "cell_type": "code",
   "execution_count": 33,
   "metadata": {},
   "outputs": [
    {
     "name": "stdout",
     "output_type": "stream",
     "text": [
      "count     90\n",
      "unique     3\n",
      "top        B\n",
      "freq      30\n",
      "Name: group, dtype: object\n",
      "B    30\n",
      "C    30\n",
      "A    30\n",
      "Name: group, dtype: int64\n"
     ]
    }
   ],
   "source": [
    "print(spain_df['group'].describe())\n",
    "print(spain_df['group'].value_counts())"
   ]
  },
  {
   "attachments": {},
   "cell_type": "markdown",
   "metadata": {},
   "source": [
    "The 90 phase2 games in the data may coincide with the 30 different A, B, C group games. There may be a season where a different format was used to play the league. We may consider removing these from the analysis.\n",
    "\n",
    "'group' Questions:\n",
    "    -Are these different groups all the same year?\n",
    "    - What was the season format at the time?\n",
    "    - Should we remove these games?"
   ]
  },
  {
   "attachments": {},
   "cell_type": "markdown",
   "metadata": {},
   "source": [
    "* Column 12: 'notes'"
   ]
  },
  {
   "cell_type": "code",
   "execution_count": 14,
   "metadata": {},
   "outputs": [
    {
     "data": {
      "text/plain": [
       "array([nan, '1-0 win awarded to AD Almeria'], dtype=object)"
      ]
     },
     "execution_count": 14,
     "metadata": {},
     "output_type": "execute_result"
    }
   ],
   "source": [
    "spain_df['notes'].unique()"
   ]
  },
  {
   "attachments": {},
   "cell_type": "markdown",
   "metadata": {},
   "source": [
    "There seems to be one game where the score may have changed after the fact.\n",
    "\n",
    "'notes' Questions:\n",
    "    - What is this specific record?\n",
    "    - What should we do with it?"
   ]
  },
  {
   "attachments": {},
   "cell_type": "markdown",
   "metadata": {},
   "source": [
    "There seems to be thirty games or so with a group designation. More exploration is needed to undestand these."
   ]
  },
  {
   "attachments": {},
   "cell_type": "markdown",
   "metadata": {},
   "source": [
    "Summary of Questions:\n",
    "\n",
    "1. 'Season' Questions: \n",
    "    - How many times did the length of the season change?\n",
    "    - How many games did each team play per season?\n",
    "    - Do the seasons only get longer?\n",
    "\n",
    "2. 'HT' Questions:\n",
    "    - What games/seasons are missing halftime scores? consider noting in readme or removing column.\n",
    "    - Are they grouped together? Note where missing ht scores are.\n",
    "    - What game has the highest number of goals in the first half?\n",
    "    - What two teams have been tied at half the most?\n",
    "    - Who had the largest lead at halftime but lost the game?\n",
    "    - How many games tied at halftime ended in a tie?\n",
    "    - How many games went scoreless in the 2nd half?  \n",
    "\n",
    "\n",
    "3. 'FT' Questions:\n",
    "    - How many games ended 0-1?\n",
    "    - How many games ended in a tie?\n",
    "    - What games had the most goals scored? (can see 11-1, 12-1, and 10-2)\n",
    "    - What are the goal totals for a given team?\n",
    "    - What team has scored the most goals? Goals per win?\n",
    "    - What are some ways to quantify home team advantage?\n",
    "    - Is it different per team? and do you compare them against their away record or other teams?\n",
    "4. 'round' Questions:\n",
    "    - What does phase2 mean? What years have this data?\n",
    "    - Is it grouped somewhere or on the end of a few seasons?\n",
    "\n",
    "5. 'group' Questions:\n",
    "    -Are these different groups all the same year?\n",
    "    - What was the season format at the time?\n",
    "    - Should we remove these games?\n",
    "\n",
    "6. 'notes' Questions:\n",
    "    - What is this specific record?\n",
    "    - What should we do with it?\n",
    "   "
   ]
  }
 ],
 "metadata": {
  "kernelspec": {
   "display_name": "venv",
   "language": "python",
   "name": "python3"
  },
  "language_info": {
   "codemirror_mode": {
    "name": "ipython",
    "version": 3
   },
   "file_extension": ".py",
   "mimetype": "text/x-python",
   "name": "python",
   "nbconvert_exporter": "python",
   "pygments_lexer": "ipython3",
   "version": "3.10.10"
  },
  "orig_nbformat": 4,
  "vscode": {
   "interpreter": {
    "hash": "7f9879e17c4504c49aa296f556ff4f1ad65cf1a47406dd65045f52f4cfe96a9b"
   }
  }
 },
 "nbformat": 4,
 "nbformat_minor": 2
}
