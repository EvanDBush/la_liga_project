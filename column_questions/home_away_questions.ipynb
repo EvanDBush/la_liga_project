{
 "cells": [
  {
   "cell_type": "code",
   "execution_count": null,
   "metadata": {},
   "outputs": [],
   "source": [
    "import pandas as pd\n",
    "spain_df = pd.read_csv('../data/spain.csv')"
   ]
  },
  {
   "attachments": {},
   "cell_type": "markdown",
   "metadata": {},
   "source": [
    "Home and Away Questions:\n",
    "    - What is the teams record for home games (win, loss, tie percentages)?\n",
    "    - What is the home teams record v specific away team? (win loss tie percentages)?\n",
    "    - What are the 5 most recent games between the home and away team?"
   ]
  }
 ],
 "metadata": {
  "kernelspec": {
   "display_name": "venv",
   "language": "python",
   "name": "python3"
  },
  "language_info": {
   "name": "python",
   "version": "3.10.10"
  },
  "orig_nbformat": 4,
  "vscode": {
   "interpreter": {
    "hash": "7f9879e17c4504c49aa296f556ff4f1ad65cf1a47406dd65045f52f4cfe96a9b"
   }
  }
 },
 "nbformat": 4,
 "nbformat_minor": 2
}
