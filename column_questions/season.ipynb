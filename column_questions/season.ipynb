{
 "cells": [
  {
   "cell_type": "code",
   "execution_count": 7,
   "metadata": {},
   "outputs": [
    {
     "data": {
      "text/html": [
       "<div>\n",
       "<style scoped>\n",
       "    .dataframe tbody tr th:only-of-type {\n",
       "        vertical-align: middle;\n",
       "    }\n",
       "\n",
       "    .dataframe tbody tr th {\n",
       "        vertical-align: top;\n",
       "    }\n",
       "\n",
       "    .dataframe thead th {\n",
       "        text-align: right;\n",
       "    }\n",
       "</style>\n",
       "<table border=\"1\" class=\"dataframe\">\n",
       "  <thead>\n",
       "    <tr style=\"text-align: right;\">\n",
       "      <th></th>\n",
       "      <th>Date</th>\n",
       "      <th>Season</th>\n",
       "      <th>home</th>\n",
       "      <th>visitor</th>\n",
       "      <th>HT</th>\n",
       "      <th>FT</th>\n",
       "      <th>hgoal</th>\n",
       "      <th>vgoal</th>\n",
       "      <th>tier</th>\n",
       "      <th>round</th>\n",
       "      <th>group</th>\n",
       "      <th>notes</th>\n",
       "    </tr>\n",
       "  </thead>\n",
       "  <tbody>\n",
       "    <tr>\n",
       "      <th>0</th>\n",
       "      <td>1929-02-10</td>\n",
       "      <td>1928</td>\n",
       "      <td>Arenas de Getxo</td>\n",
       "      <td>Atletico Madrid</td>\n",
       "      <td>0-2</td>\n",
       "      <td>2-3</td>\n",
       "      <td>2</td>\n",
       "      <td>3</td>\n",
       "      <td>1</td>\n",
       "      <td>league</td>\n",
       "      <td>NaN</td>\n",
       "      <td>NaN</td>\n",
       "    </tr>\n",
       "    <tr>\n",
       "      <th>1</th>\n",
       "      <td>1929-02-10</td>\n",
       "      <td>1928</td>\n",
       "      <td>Espanyol Barcelona</td>\n",
       "      <td>Real Union</td>\n",
       "      <td>1-0</td>\n",
       "      <td>3-2</td>\n",
       "      <td>3</td>\n",
       "      <td>2</td>\n",
       "      <td>1</td>\n",
       "      <td>league</td>\n",
       "      <td>NaN</td>\n",
       "      <td>NaN</td>\n",
       "    </tr>\n",
       "    <tr>\n",
       "      <th>2</th>\n",
       "      <td>1929-02-10</td>\n",
       "      <td>1928</td>\n",
       "      <td>Real Madrid</td>\n",
       "      <td>CE Europa</td>\n",
       "      <td>0-0</td>\n",
       "      <td>5-0</td>\n",
       "      <td>5</td>\n",
       "      <td>0</td>\n",
       "      <td>1</td>\n",
       "      <td>league</td>\n",
       "      <td>NaN</td>\n",
       "      <td>NaN</td>\n",
       "    </tr>\n",
       "    <tr>\n",
       "      <th>3</th>\n",
       "      <td>1929-02-10</td>\n",
       "      <td>1928</td>\n",
       "      <td>Real Sociedad</td>\n",
       "      <td>Athletic Bilbao</td>\n",
       "      <td>1-1</td>\n",
       "      <td>1-1</td>\n",
       "      <td>1</td>\n",
       "      <td>1</td>\n",
       "      <td>1</td>\n",
       "      <td>league</td>\n",
       "      <td>NaN</td>\n",
       "      <td>NaN</td>\n",
       "    </tr>\n",
       "    <tr>\n",
       "      <th>4</th>\n",
       "      <td>1929-02-12</td>\n",
       "      <td>1928</td>\n",
       "      <td>Racing Santander</td>\n",
       "      <td>FC Barcelona</td>\n",
       "      <td>0-0</td>\n",
       "      <td>0-2</td>\n",
       "      <td>0</td>\n",
       "      <td>2</td>\n",
       "      <td>1</td>\n",
       "      <td>league</td>\n",
       "      <td>NaN</td>\n",
       "      <td>NaN</td>\n",
       "    </tr>\n",
       "    <tr>\n",
       "      <th>...</th>\n",
       "      <td>...</td>\n",
       "      <td>...</td>\n",
       "      <td>...</td>\n",
       "      <td>...</td>\n",
       "      <td>...</td>\n",
       "      <td>...</td>\n",
       "      <td>...</td>\n",
       "      <td>...</td>\n",
       "      <td>...</td>\n",
       "      <td>...</td>\n",
       "      <td>...</td>\n",
       "      <td>...</td>\n",
       "    </tr>\n",
       "    <tr>\n",
       "      <th>26190</th>\n",
       "      <td>2022-05-22</td>\n",
       "      <td>2021</td>\n",
       "      <td>Granada CF</td>\n",
       "      <td>Espanyol Barcelona</td>\n",
       "      <td>NaN</td>\n",
       "      <td>0-0</td>\n",
       "      <td>0</td>\n",
       "      <td>0</td>\n",
       "      <td>1</td>\n",
       "      <td>league</td>\n",
       "      <td>NaN</td>\n",
       "      <td>NaN</td>\n",
       "    </tr>\n",
       "    <tr>\n",
       "      <th>26191</th>\n",
       "      <td>2022-05-22</td>\n",
       "      <td>2021</td>\n",
       "      <td>CA Osasuna</td>\n",
       "      <td>RCD Mallorca</td>\n",
       "      <td>NaN</td>\n",
       "      <td>0-2</td>\n",
       "      <td>0</td>\n",
       "      <td>2</td>\n",
       "      <td>1</td>\n",
       "      <td>league</td>\n",
       "      <td>NaN</td>\n",
       "      <td>NaN</td>\n",
       "    </tr>\n",
       "    <tr>\n",
       "      <th>26192</th>\n",
       "      <td>2022-05-22</td>\n",
       "      <td>2021</td>\n",
       "      <td>FC Barcelona</td>\n",
       "      <td>Villarreal CF</td>\n",
       "      <td>NaN</td>\n",
       "      <td>0-2</td>\n",
       "      <td>0</td>\n",
       "      <td>2</td>\n",
       "      <td>1</td>\n",
       "      <td>league</td>\n",
       "      <td>NaN</td>\n",
       "      <td>NaN</td>\n",
       "    </tr>\n",
       "    <tr>\n",
       "      <th>26193</th>\n",
       "      <td>2022-05-22</td>\n",
       "      <td>2021</td>\n",
       "      <td>Sevilla FC</td>\n",
       "      <td>Athletic Bilbao</td>\n",
       "      <td>NaN</td>\n",
       "      <td>1-0</td>\n",
       "      <td>1</td>\n",
       "      <td>0</td>\n",
       "      <td>1</td>\n",
       "      <td>league</td>\n",
       "      <td>NaN</td>\n",
       "      <td>NaN</td>\n",
       "    </tr>\n",
       "    <tr>\n",
       "      <th>26194</th>\n",
       "      <td>2022-05-22</td>\n",
       "      <td>2021</td>\n",
       "      <td>Real Sociedad</td>\n",
       "      <td>Atletico Madrid</td>\n",
       "      <td>NaN</td>\n",
       "      <td>1-2</td>\n",
       "      <td>1</td>\n",
       "      <td>2</td>\n",
       "      <td>1</td>\n",
       "      <td>league</td>\n",
       "      <td>NaN</td>\n",
       "      <td>NaN</td>\n",
       "    </tr>\n",
       "  </tbody>\n",
       "</table>\n",
       "<p>26195 rows × 12 columns</p>\n",
       "</div>"
      ],
      "text/plain": [
       "             Date  Season                home             visitor   HT   FT  \\\n",
       "0      1929-02-10    1928     Arenas de Getxo     Atletico Madrid  0-2  2-3   \n",
       "1      1929-02-10    1928  Espanyol Barcelona          Real Union  1-0  3-2   \n",
       "2      1929-02-10    1928         Real Madrid           CE Europa  0-0  5-0   \n",
       "3      1929-02-10    1928       Real Sociedad     Athletic Bilbao  1-1  1-1   \n",
       "4      1929-02-12    1928    Racing Santander        FC Barcelona  0-0  0-2   \n",
       "...           ...     ...                 ...                 ...  ...  ...   \n",
       "26190  2022-05-22    2021          Granada CF  Espanyol Barcelona  NaN  0-0   \n",
       "26191  2022-05-22    2021          CA Osasuna        RCD Mallorca  NaN  0-2   \n",
       "26192  2022-05-22    2021        FC Barcelona       Villarreal CF  NaN  0-2   \n",
       "26193  2022-05-22    2021          Sevilla FC     Athletic Bilbao  NaN  1-0   \n",
       "26194  2022-05-22    2021       Real Sociedad     Atletico Madrid  NaN  1-2   \n",
       "\n",
       "       hgoal  vgoal  tier   round group notes  \n",
       "0          2      3     1  league   NaN   NaN  \n",
       "1          3      2     1  league   NaN   NaN  \n",
       "2          5      0     1  league   NaN   NaN  \n",
       "3          1      1     1  league   NaN   NaN  \n",
       "4          0      2     1  league   NaN   NaN  \n",
       "...      ...    ...   ...     ...   ...   ...  \n",
       "26190      0      0     1  league   NaN   NaN  \n",
       "26191      0      2     1  league   NaN   NaN  \n",
       "26192      0      2     1  league   NaN   NaN  \n",
       "26193      1      0     1  league   NaN   NaN  \n",
       "26194      1      2     1  league   NaN   NaN  \n",
       "\n",
       "[26195 rows x 12 columns]"
      ]
     },
     "execution_count": 7,
     "metadata": {},
     "output_type": "execute_result"
    }
   ],
   "source": [
    "import pandas as pd\n",
    "spain_df = pd.read_csv('../data/spain.csv')\n",
    "spain_df"
   ]
  },
  {
   "attachments": {},
   "cell_type": "markdown",
   "metadata": {},
   "source": [
    "* 'Season' Questions: \n",
    "    - How many times did the length of the season change?\n",
    "    - How many games did each team play per season?\n",
    "    - Do the seasons only get longer?\n",
    "    \n",
    "    "
   ]
  },
  {
   "attachments": {},
   "cell_type": "markdown",
   "metadata": {},
   "source": [
    "How many times did the length of season change?"
   ]
  },
  {
   "cell_type": "code",
   "execution_count": 18,
   "metadata": {},
   "outputs": [
    {
     "data": {
      "text/plain": [
       "array([462, 396, 380, 306, 305, 240, 182, 132,  90], dtype=int64)"
      ]
     },
     "execution_count": 18,
     "metadata": {},
     "output_type": "execute_result"
    }
   ],
   "source": [
    "season_list = spain_df['Season'].unique()\n",
    "spain_df['Season'].value_counts().unique()"
   ]
  },
  {
   "attachments": {},
   "cell_type": "markdown",
   "metadata": {},
   "source": [
    "This seems to suggest that the length of season has changed at least 8 times. The shortest season has 90 games and the longest has 462 games. It's possible that the season has changed back and forth between two of these values and would not be shown in this list.\n",
    "\n",
    "-"
   ]
  },
  {
   "attachments": {},
   "cell_type": "markdown",
   "metadata": {},
   "source": [
    "How many games did each team play per season?"
   ]
  },
  {
   "cell_type": "code",
   "execution_count": 20,
   "metadata": {},
   "outputs": [
    {
     "data": {
      "text/plain": [
       "array(['Arenas de Getxo', 'Espanyol Barcelona', 'Real Madrid',\n",
       "       'Real Sociedad', 'Racing Santander', 'FC Barcelona',\n",
       "       'Athletic Bilbao', 'Atletico Madrid', 'Real Union', 'CE Europa',\n",
       "       'CD Alaves', 'Valencia CF', 'Real Betis', 'Real Oviedo',\n",
       "       'Sevilla FC', 'Hercules CF', 'CA Osasuna', 'Real Zaragoza',\n",
       "       'Celta Vigo', 'Real Murcia', 'Granada CF', 'Deportivo La Coruna',\n",
       "       'CD Castellon', 'CE Sabadell', 'Sporting Gijon', 'CD Alcoyano',\n",
       "       'Gimnastic', 'Real Valladolid', 'CD Malaga', 'UE Lleida',\n",
       "       'Atletico Tetuan', 'UD Las Palmas', 'Real Jaen', 'CD Leonesa',\n",
       "       'CD Condal', 'Elche CF', 'RCD Mallorca', 'CD Tenerife',\n",
       "       'Cordoba CF', 'Pontevedra CF', 'Levante UD', 'Burgos CF',\n",
       "       'UD Salamanca', 'Cadiz CF', 'Rayo Vallecano', 'Recreativo Huelva',\n",
       "       'AD Almeria', 'CD Logrones', 'Real Burgos', 'Albacete',\n",
       "       'SD Compostela', 'CP Merida', 'CF Extremadura', 'Villarreal CF',\n",
       "       'CD Numancia', 'Malaga CF', 'Getafe CF', 'UD Almeria', 'Xerez CD',\n",
       "       'SD Eibar', 'CD Leganes', 'Girona', 'SD Huesca'], dtype=object)"
      ]
     },
     "execution_count": 20,
     "metadata": {},
     "output_type": "execute_result"
    }
   ],
   "source": [
    "spain_df['Season'].unique()\n",
    "home_team_list = spain_df['home'].unique()"
   ]
  },
  {
   "cell_type": "markdown",
   "metadata": {},
   "source": []
  },
  {
   "attachments": {},
   "cell_type": "markdown",
   "metadata": {},
   "source": [
    "Do the seasons only get longer?"
   ]
  },
  {
   "cell_type": "code",
   "execution_count": null,
   "metadata": {},
   "outputs": [],
   "source": []
  }
 ],
 "metadata": {
  "kernelspec": {
   "display_name": "venv",
   "language": "python",
   "name": "python3"
  },
  "language_info": {
   "codemirror_mode": {
    "name": "ipython",
    "version": 3
   },
   "file_extension": ".py",
   "mimetype": "text/x-python",
   "name": "python",
   "nbconvert_exporter": "python",
   "pygments_lexer": "ipython3",
   "version": "3.10.10"
  },
  "orig_nbformat": 4,
  "vscode": {
   "interpreter": {
    "hash": "7f9879e17c4504c49aa296f556ff4f1ad65cf1a47406dd65045f52f4cfe96a9b"
   }
  }
 },
 "nbformat": 4,
 "nbformat_minor": 2
}
