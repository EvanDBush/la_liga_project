{
 "cells": [
  {
   "cell_type": "code",
   "execution_count": 1,
   "metadata": {},
   "outputs": [],
   "source": [
    "import pandas as pd\n",
    "spain_df = pd.read_csv('../data/spain.csv')"
   ]
  },
  {
   "attachments": {},
   "cell_type": "markdown",
   "metadata": {},
   "source": [
    "'notes' Questions:\n",
    "    - What is this specific record?\n",
    "    - What should we do with it?"
   ]
  },
  {
   "cell_type": "code",
   "execution_count": 5,
   "metadata": {},
   "outputs": [
    {
     "data": {
      "text/plain": [
       "array([nan, '1-0 win awarded to AD Almeria'], dtype=object)"
      ]
     },
     "execution_count": 5,
     "metadata": {},
     "output_type": "execute_result"
    }
   ],
   "source": [
    "spain_df['notes'].unique()"
   ]
  },
  {
   "cell_type": "code",
   "execution_count": 7,
   "metadata": {},
   "outputs": [
    {
     "data": {
      "text/html": [
       "<div>\n",
       "<style scoped>\n",
       "    .dataframe tbody tr th:only-of-type {\n",
       "        vertical-align: middle;\n",
       "    }\n",
       "\n",
       "    .dataframe tbody tr th {\n",
       "        vertical-align: top;\n",
       "    }\n",
       "\n",
       "    .dataframe thead th {\n",
       "        text-align: right;\n",
       "    }\n",
       "</style>\n",
       "<table border=\"1\" class=\"dataframe\">\n",
       "  <thead>\n",
       "    <tr style=\"text-align: right;\">\n",
       "      <th></th>\n",
       "      <th>Date</th>\n",
       "      <th>Season</th>\n",
       "      <th>home</th>\n",
       "      <th>visitor</th>\n",
       "      <th>HT</th>\n",
       "      <th>FT</th>\n",
       "      <th>hgoal</th>\n",
       "      <th>vgoal</th>\n",
       "      <th>tier</th>\n",
       "      <th>round</th>\n",
       "      <th>group</th>\n",
       "      <th>notes</th>\n",
       "    </tr>\n",
       "  </thead>\n",
       "  <tbody>\n",
       "    <tr>\n",
       "      <th>10436</th>\n",
       "      <td>1980-03-30</td>\n",
       "      <td>1979</td>\n",
       "      <td>CD Malaga</td>\n",
       "      <td>AD Almeria</td>\n",
       "      <td>0-0</td>\n",
       "      <td>0-1</td>\n",
       "      <td>0</td>\n",
       "      <td>1</td>\n",
       "      <td>1</td>\n",
       "      <td>league</td>\n",
       "      <td>NaN</td>\n",
       "      <td>1-0 win awarded to AD Almeria</td>\n",
       "    </tr>\n",
       "  </tbody>\n",
       "</table>\n",
       "</div>"
      ],
      "text/plain": [
       "             Date  Season       home     visitor   HT   FT  hgoal  vgoal  \\\n",
       "10436  1980-03-30    1979  CD Malaga  AD Almeria  0-0  0-1      0      1   \n",
       "\n",
       "       tier   round group                          notes  \n",
       "10436     1  league   NaN  1-0 win awarded to AD Almeria  "
      ]
     },
     "execution_count": 7,
     "metadata": {},
     "output_type": "execute_result"
    }
   ],
   "source": [
    "spain_df.loc[spain_df['notes'] == '1-0 win awarded to AD Almeria']"
   ]
  },
  {
   "attachments": {},
   "cell_type": "markdown",
   "metadata": {},
   "source": [
    "Malaga seems to have forfeited the match."
   ]
  }
 ],
 "metadata": {
  "kernelspec": {
   "display_name": "venv",
   "language": "python",
   "name": "python3"
  },
  "language_info": {
   "codemirror_mode": {
    "name": "ipython",
    "version": 3
   },
   "file_extension": ".py",
   "mimetype": "text/x-python",
   "name": "python",
   "nbconvert_exporter": "python",
   "pygments_lexer": "ipython3",
   "version": "3.10.10"
  },
  "orig_nbformat": 4,
  "vscode": {
   "interpreter": {
    "hash": "7f9879e17c4504c49aa296f556ff4f1ad65cf1a47406dd65045f52f4cfe96a9b"
   }
  }
 },
 "nbformat": 4,
 "nbformat_minor": 2
}
