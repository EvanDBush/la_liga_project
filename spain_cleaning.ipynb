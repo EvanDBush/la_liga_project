{
 "cells": [
  {
   "cell_type": "code",
   "execution_count": null,
   "metadata": {},
   "outputs": [],
   "source": [
    "import pandas as pd\n",
    "spain_df = pd.read_csv(\"data/spain.csv\")"
   ]
  },
  {
   "attachments": {},
   "cell_type": "markdown",
   "metadata": {},
   "source": [
    "**Post Dataframe Exploration\n",
    "***Questions:\n",
    "    - Are there any games in the dataframe that are not Tier 1? Consider removing column if not.\n",
    "    - Are there any games in the 'round' column that are not marked 'league'? Consider removing ones that are not.\n",
    "    - What does the group column mean? Need to locate the games with data in the group column.\n",
    "    - Where is the one game with data in the note column? \n",
    "\n",
    "***Objectives:\n",
    "    - Answer above questions.\n",
    "    - Evaluate columns for dropping.\n",
    "    - Consider column readability.\n",
    "    - Build list for cleaning program\n",
    "\n",
    "    - Add points column? or Visitor and Home points columns.\n",
    "        A win is 3 points. A tie is one point each. A loss is zero points.\n",
    "        I will have to compare the hgoals and vgoals column for each row \n",
    "        and somehow assign points to each team.  \n",
    "    \n",
    "    Eventually, I would like to figure out the standings of the teams for any given season."
   ]
  },
  {
   "attachments": {},
   "cell_type": "markdown",
   "metadata": {},
   "source": [
    "Cleaning objectives:\n",
    "\n",
    "- create calculated fields.\n",
    "    1. calculate points per game. (3pt for win. 1 for draw)\n",
    "\n",
    "- add columns for points?\n",
    "\n",
    "- remove unneeded columns.\n",
    "    1. tier and round may need removed.\n",
    "    2. remove games that have round other than league (phase2)\n",
    "    3. remove games in groups a,b,c (after figuring out what they are, of course.)\n",
    "\n",
    "- update column names to human readable values\n",
    "    1. home to HomeTeam\n",
    "    2. visitior to AwayTeam\n",
    "    3. FT to FullTimeScore\n",
    "    4. hgoal"
   ]
  }
 ],
 "metadata": {
  "kernelspec": {
   "display_name": "venv",
   "language": "python",
   "name": "python3"
  },
  "language_info": {
   "name": "python",
   "version": "3.10.10"
  },
  "orig_nbformat": 4,
  "vscode": {
   "interpreter": {
    "hash": "7f9879e17c4504c49aa296f556ff4f1ad65cf1a47406dd65045f52f4cfe96a9b"
   }
  }
 },
 "nbformat": 4,
 "nbformat_minor": 2
}
